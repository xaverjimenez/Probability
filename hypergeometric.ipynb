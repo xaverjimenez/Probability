{
 "cells": [
  {
   "cell_type": "markdown",
   "metadata": {},
   "source": [
    "# The hypergeometric distribution"
   ]
  },
  {
   "cell_type": "markdown",
   "metadata": {},
   "source": [
    "## Background \n",
    "The applications of the hypergeometric distribution are very similar to those of the binomial distribution. However, there is a fundamental difference: In the binomial, the probability of a success is equal from trial to trial (sampling with replacement), while in the hypergeometric, the probability of a succes may not be the same from trial to trial (sampling without replacement). Therefore, if the population shrinks each time, the probability for each observation will change.\n",
    "\n",
    "The applications of the hypergeometric distribution are very common, especially where sampling without replacement is necessary. For example, where the sampling is performed at the expense of the item being tested; that is, the item is destroyed and cannot be replaced."
   ]
  },
  {
   "cell_type": "markdown",
   "metadata": {},
   "source": [
    "## Probability Mass Function"
   ]
  },
  {
   "cell_type": "markdown",
   "metadata": {},
   "source": [
    "The formula for the probability mass function of $k$ successes is:\n",
    "\n",
    "$$H(k \\mid M, n, N) = \\frac {\\dbinom {n}{k} \\dbinom{M - n}{N - k}}{\\dbinom{M}{N}}$$\n",
    "\n",
    "for $k \\in [max(0, N - M + n), min(n, N)]$, where the binomial coefficients are defined as,\n",
    "$$\\dbinom{n}{k} \\equiv \\frac{n!}{k!(n-k)!}$$\n",
    "\n",
    "\n",
    "where:\n",
    "\n",
    "$k$ is the number of successes of the sample\n",
    "\n",
    "$M$ is the size of the population.\n",
    "\n",
    "$N$ is the size of the sample or the number of trials.\n",
    "\n",
    "$n$ is the number of successes in the population.\n",
    "\n"
   ]
  },
  {
   "cell_type": "markdown",
   "metadata": {},
   "source": [
    "In phython we can use the  `hypergeom` function from `scipy.stat`. Specifically:\n",
    "`pmf(k, M, n, N, loc=0)` for the probability mass function or `cdf(k, M, n, N, loc=0)` for the cumulative distribution function."
   ]
  },
  {
   "cell_type": "code",
   "execution_count": null,
   "metadata": {},
   "outputs": [],
   "source": []
  }
 ],
 "metadata": {
  "kernelspec": {
   "display_name": "Python 3",
   "language": "python",
   "name": "python3"
  },
  "language_info": {
   "codemirror_mode": {
    "name": "ipython",
    "version": 3
   },
   "file_extension": ".py",
   "mimetype": "text/x-python",
   "name": "python",
   "nbconvert_exporter": "python",
   "pygments_lexer": "ipython3",
   "version": "3.7.2"
  }
 },
 "nbformat": 4,
 "nbformat_minor": 2
}
